{
 "cells": [
  {
   "cell_type": "code",
   "execution_count": 26,
   "metadata": {},
   "outputs": [],
   "source": [
    "import numpy as np\n",
    "from random import shuffle"
   ]
  },
  {
   "cell_type": "code",
   "execution_count": 27,
   "metadata": {},
   "outputs": [],
   "source": [
    "class Deck(object):\n",
    "    def __init__(self):\n",
    "        self.cards = []\n",
    "    def add(self, card):\n",
    "        self.cards.append(card)\n",
    "#     def draw(self, hand):\n",
    "#         hand.append(self.cards.pop(0))\n",
    "    def randomize(self):\n",
    "        shuffle(self.cards)"
   ]
  },
  {
   "cell_type": "code",
   "execution_count": 28,
   "metadata": {},
   "outputs": [],
   "source": [
    "class Hand(object):\n",
    "    def __init__(self, deck, num_cards=0):\n",
    "        self.cards = []\n",
    "        self.draw(deck, num_cards)\n",
    "        \n",
    "    def __getitem__(self, key):\n",
    "        return self.cards[key]\n",
    "    \n",
    "    def __str__(self):\n",
    "        return str(self.cards)\n",
    "    \n",
    "    def __iter__(self):\n",
    "        for card in self.cards:\n",
    "            yield card\n",
    "    \n",
    "    def draw(self, deck, num_cards=1):\n",
    "        for _ in range(num_cards):\n",
    "            self.cards.append(deck.cards.pop(0))\n",
    "    \n",
    "    @property\n",
    "    def num_lands(self):\n",
    "        nland = 0\n",
    "        for card in self.cards:\n",
    "            if isinstance(card, Land):\n",
    "                nland += 1\n",
    "        return nland\n",
    "    \n",
    "    @property\n",
    "    def num_cards(self):\n",
    "        return len(self.cards)\n"
   ]
  },
  {
   "cell_type": "code",
   "execution_count": 29,
   "metadata": {},
   "outputs": [],
   "source": [
    "class Card(object):\n",
    "    def __init__(self, name):\n",
    "        self.name = name\n",
    "    def __repr__(self):\n",
    "        return self.name\n",
    "    def __str__(self):\n",
    "        return self.name\n",
    "\n",
    "class Land(Card):\n",
    "    lands = {\"plains\":\"w\", \"island\":\"u\", \"swamp\":\"b\", \"mountain\":\"r\", \"forest\":\"g\"}\n",
    "    def __init__(self, name, colors=None, tapland=False):\n",
    "        super().__init__(name)\n",
    "        self.tapland = tapland\n",
    "        \n",
    "        if colors is None and self.name in Land.lands:\n",
    "            colors = Land.lands[self.name]\n",
    "            \n",
    "        if not isinstance(colors, list):\n",
    "            colors = list(colors)\n",
    "        self.colors = colors\n",
    "        \n",
    "    @property\n",
    "    def white(self):\n",
    "        return \"w\" in self.colors\n",
    "    @property\n",
    "    def blue(self):\n",
    "        return \"u\" in self.colors\n",
    "    @property\n",
    "    def black(self):\n",
    "        return \"b\" in self.colors\n",
    "    @property\n",
    "    def red(self):\n",
    "        return \"r\" in self.colors\n",
    "    @property\n",
    "    def green(self):\n",
    "        return \"g\" in self.colors"
   ]
  },
  {
   "cell_type": "code",
   "execution_count": 53,
   "metadata": {},
   "outputs": [],
   "source": [
    "class Player(object):\n",
    "    def __init__(self, deck):\n",
    "        self.deck = deck\n",
    "        self.deck.randomize()\n",
    "        self.hand = Hand(self.deck, 7)\n",
    "        \n",
    "    def restart(self):\n",
    "        self.deck.cards += self.hand.cards\n",
    "        self.deck.randomize()\n",
    "        self.hand = Hand(self.deck, 7)\n",
    "        \n",
    "    @classmethod\n",
    "    def create_decklist(cls, num_A, num_B, num_mc):\n",
    "        deck = Deck()\n",
    "        for _ in range(num_A):\n",
    "            deck.add(Land(\"swamp\"))\n",
    "        for _ in range(num_B):\n",
    "            deck.add(Land(\"forest\"))\n",
    "        for _ in range(num_mc):\n",
    "            deck.add(Land(\"multicolor\", colors=[\"b\", \"g\"], tapland=True))\n",
    "        for _ in range(40-len(deck.cards)):\n",
    "            deck.add(Card(\"arbitrary\"))\n",
    "        # deck.randomize()\n",
    "        return cls(deck)\n",
    "    \n",
    "    @property\n",
    "    def cards_in_hand(self):\n",
    "        return self.hand.num_cards\n",
    "    \n",
    "    def draw(self, num_cards=1):\n",
    "        self.hand.draw(self.deck, num_cards)\n",
    "            \n",
    "    def draw_until_n_lands(self, n):\n",
    "        while self.hand.num_lands < n:\n",
    "            self.draw(1)\n",
    "    \n",
    "    def can_cast_AABB(self):\n",
    "        AB = [0, 0]\n",
    "        num_mc = 0\n",
    "        for i,card in enumerate(self.hand):\n",
    "            if not isinstance(card, Land):\n",
    "                continue\n",
    "\n",
    "            if i==self.cards_in_hand-1 and card.tapland:\n",
    "                break\n",
    "\n",
    "            if len(card.colors) > 1:\n",
    "                num_mc += 1\n",
    "\n",
    "            if card.green:\n",
    "                AB[0] += 1\n",
    "            if card.black:\n",
    "                AB[1] += 1\n",
    "\n",
    "        for _ in range(num_mc):\n",
    "            AB = sorted(AB)\n",
    "            AB[1] -= 1\n",
    "\n",
    "        result = AB[0] >= 2 and AB[1] >= 2\n",
    "        return result\n"
   ]
  },
  {
   "cell_type": "code",
   "execution_count": 57,
   "metadata": {},
   "outputs": [],
   "source": [
    "def single_run(p, play=True, max_turns=9):\n",
    "    p.restart()\n",
    "    p.draw(4-int(play))\n",
    "    success = []\n",
    "    for _ in range(4, max_turns):\n",
    "        success.append(p.can_cast_AABB())\n",
    "        p.draw()\n",
    "    return success\n",
    "\n",
    "def AABB_mc(p, play=True, max_turns=9, num_mc=10000):\n",
    "    result = [single_run(p, max_turns=max_turns, play=play) for _ in range(num_mc)]\n",
    "    prob = np.mean(result, axis=0)\n",
    "    return prob"
   ]
  },
  {
   "cell_type": "code",
   "execution_count": 58,
   "metadata": {},
   "outputs": [],
   "source": [
    "def full_simulation(num_lands=17, play=True, num_mc=10000):\n",
    "    if play: play_str=\"play\"\n",
    "    else: play_str=\"draw\"\n",
    "    print(f\"Simulating {num_lands} lands on the {play_str}\")\n",
    "    for num_mclr in range(6):\n",
    "        num_swamps = (num_lands - num_mclr)//2\n",
    "        num_forests = num_lands - num_mclr - num_swamps\n",
    "        print(num_forests, num_swamps, num_mclr, end=\"\\t\")\n",
    "        p = Player.create_decklist(num_forests, num_swamps, num_mclr)\n",
    "        prob = AABB_mc(p, play=play, num_mc=num_mc)*100\n",
    "        prob_str = [f\"{x:.1f}\" for x in prob]\n",
    "        print(*prob_str)"
   ]
  },
  {
   "cell_type": "code",
   "execution_count": 59,
   "metadata": {},
   "outputs": [
    {
     "name": "stdout",
     "output_type": "stream",
     "text": [
      "Simulating 17 lands on the play\n",
      "9 8 0\t45.5 54.6 63.2 70.7 77.3\n",
      "8 8 1\t49.7 59.7 68.1 75.1 81.4\n",
      "8 7 2\t52.2 61.6 69.9 77.3 83.4\n",
      "7 7 3\t55.5 65.1 73.6 80.8 86.3\n",
      "7 6 4\t57.1 67.1 75.8 82.5 87.5\n",
      "6 6 5\t60.0 70.0 78.0 85.1 90.2\n",
      "Simulating 17 lands on the draw\n",
      "9 8 0\t55.0 63.4 70.6 77.5 82.7\n",
      "8 8 1\t59.6 67.7 75.2 81.1 86.1\n",
      "8 7 2\t62.3 70.7 77.9 84.0 88.2\n",
      "7 7 3\t65.7 74.1 81.5 86.7 90.4\n",
      "7 6 4\t66.7 75.6 82.6 88.0 91.6\n",
      "6 6 5\t69.4 77.8 84.9 89.7 93.2\n",
      "Simulating 18 lands on the play\n",
      "9 9 0\t51.9 61.1 69.1 76.3 82.3\n",
      "9 8 1\t54.4 64.2 72.3 78.7 84.7\n",
      "8 8 2\t57.3 66.7 74.5 81.5 86.6\n",
      "8 7 3\t60.8 70.1 78.2 84.6 89.3\n",
      "7 7 4\t63.4 73.2 81.1 87.1 91.2\n",
      "7 6 5\t64.9 74.5 82.3 88.2 92.1\n",
      "Simulating 18 lands on the draw\n",
      "9 9 0\t60.3 68.9 76.2 82.1 86.9\n",
      "9 8 1\t63.9 72.4 79.1 84.4 88.4\n",
      "8 8 2\t67.9 76.0 82.5 87.4 91.2\n",
      "8 7 3\t70.4 78.7 84.7 89.4 92.8\n",
      "7 7 4\t71.7 79.5 85.4 90.1 93.8\n",
      "7 6 5\t75.2 82.3 87.7 91.9 95.0\n"
     ]
    }
   ],
   "source": [
    "full_simulation(17, True, num_mc=10000)\n",
    "full_simulation(17, False, num_mc=10000)\n",
    "full_simulation(18, True, num_mc=10000)\n",
    "full_simulation(18, False, num_mc=10000)"
   ]
  },
  {
   "cell_type": "code",
   "execution_count": 60,
   "metadata": {},
   "outputs": [],
   "source": [
    "def minimum_castable_turn(player, play=True):\n",
    "    player.restart()\n",
    "    turn = 4\n",
    "    player.draw(turn-int(play))\n",
    "    while not player.can_cast_AABB():\n",
    "        player.draw()\n",
    "        turn += 1\n",
    "    return turn"
   ]
  },
  {
   "cell_type": "code",
   "execution_count": 61,
   "metadata": {},
   "outputs": [],
   "source": [
    "def min_turn_simulation(num_lands=17, play=True, num_mc=10000, max_mclr=6):\n",
    "    if play: play_str=\"play\"\n",
    "    else: play_str=\"draw\"\n",
    "    print(f\"Simulating {num_lands} lands on the {play_str}\")\n",
    "    for num_mclr in range(max_mclr):\n",
    "        num_swamps = (num_lands - num_mclr)//2\n",
    "        num_forests = num_lands - num_mclr - num_swamps\n",
    "        print(num_forests, num_swamps, num_mclr, end=\"\\t\")\n",
    "        p = Player.create_decklist(num_forests, num_swamps, num_mclr)\n",
    "        turn = [minimum_castable_turn(p, play) for _ in range(num_mc)]\n",
    "        print(\"{:.2f}\".format(np.mean(turn)))"
   ]
  },
  {
   "cell_type": "code",
   "execution_count": 62,
   "metadata": {},
   "outputs": [
    {
     "name": "stdout",
     "output_type": "stream",
     "text": [
      "Simulating 17 lands on the play\n",
      "9 8 0\t6.49\n",
      "8 8 1\t6.13\n",
      "8 7 2\t5.88\n",
      "7 7 3\t5.66\n",
      "7 6 4\t5.50\n",
      "6 6 5\t5.32\n",
      "Simulating 17 lands on the draw\n",
      "9 8 0\t5.90\n",
      "8 8 1\t5.60\n",
      "8 7 2\t5.42\n",
      "7 7 3\t5.22\n",
      "7 6 4\t5.08\n",
      "6 6 5\t4.95\n",
      "Simulating 18 lands on the play\n",
      "9 9 0\t6.06\n",
      "9 8 1\t5.83\n",
      "8 8 2\t5.53\n",
      "8 7 3\t5.42\n",
      "7 7 4\t5.24\n",
      "7 6 5\t5.07\n",
      "Simulating 18 lands on the draw\n",
      "9 9 0\t5.57\n",
      "9 8 1\t5.32\n",
      "8 8 2\t5.11\n",
      "8 7 3\t4.97\n",
      "7 7 4\t4.83\n",
      "7 6 5\t4.75\n"
     ]
    }
   ],
   "source": [
    "min_turn_simulation(17, True, 10000, 6)\n",
    "min_turn_simulation(17, False, 10000, 6)\n",
    "min_turn_simulation(18, True, 10000, 6)\n",
    "min_turn_simulation(18, False, 10000, 6)"
   ]
  },
  {
   "cell_type": "code",
   "execution_count": 52,
   "metadata": {},
   "outputs": [
    {
     "name": "stdout",
     "output_type": "stream",
     "text": [
      "[multicolor, arbitrary, arbitrary, swamp, arbitrary, arbitrary, arbitrary, multicolor, arbitrary, arbitrary, arbitrary, arbitrary, multicolor]\n",
      "True\n"
     ]
    }
   ],
   "source": [
    "p = Player.create_decklist(6,6,5)\n",
    "p.draw_until_n_lands(4)\n",
    "print(p.hand)\n",
    "print(p.can_cast_AABB())"
   ]
  },
  {
   "cell_type": "code",
   "execution_count": null,
   "metadata": {},
   "outputs": [],
   "source": []
  }
 ],
 "metadata": {
  "kernelspec": {
   "display_name": "Python 3",
   "language": "python",
   "name": "python3"
  },
  "language_info": {
   "codemirror_mode": {
    "name": "ipython",
    "version": 3
   },
   "file_extension": ".py",
   "mimetype": "text/x-python",
   "name": "python",
   "nbconvert_exporter": "python",
   "pygments_lexer": "ipython3",
   "version": "3.6.4"
  }
 },
 "nbformat": 4,
 "nbformat_minor": 2
}
